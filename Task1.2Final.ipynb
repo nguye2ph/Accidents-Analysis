{
 "cells": [
  {
   "cell_type": "code",
   "execution_count": 37,
   "id": "46b9ef84-3f9e-4028-8250-1539616d4507",
   "metadata": {},
   "outputs": [],
   "source": [
    "# Import necessary libraries \n",
    "import pyodbc \n",
    "import pandas as pd \n",
    "import math \n",
    "import matplotlib.pyplot as plt \n",
    "import seaborn as sns \n",
    "from tqdm.notebook import tqdm  # for visual progress bars in Jupyter "
   ]
  },
  {
   "cell_type": "code",
   "execution_count": null,
   "id": "15793c4f-6d22-4edd-aab8-6ca07c5fa1f9",
   "metadata": {},
   "outputs": [],
   "source": [
    "# SQL script to create all tables of project \n",
    "create_table_scripts = ''' \n",
    "    create table accident_record( \n",
    "        id int identity primary key, \n",
    "        crash_date date, \n",
    "        crash_time time \n",
    "    ); \n",
    "    create table injury_person_type( \n",
    "        id int identity primary key, \n",
    "        type_name varchar(100)\n",
    "    ); \n",
    "    create table injury_area( \n",
    "        id int identity primary key, \n",
    "        area_name varchar(50)\n",
    "    ); \n",
    "    create table personal_injury_record( \n",
    "        id int identity primary key, \n",
    "        injury_result varchar(20), \n",
    "        accident_record_id int foreign key references accident_record(id), \n",
    "        injury_person_type_id int foreign key references injury_person_type(id), \n",
    "        injury_area_id int foreign key references injury_area(id)\n",
    "    ); \n",
    "    create table personal_info( \n",
    "        id int primary key foreign key references personal_injury_record(id), \n",
    "        age int, \n",
    "        sex char(1) \n",
    "    ); \n",
    "'''"
   ]
  },
  {
   "cell_type": "code",
   "execution_count": 47,
   "id": "6352042f-55d6-4562-97c8-f03d29e60ae9",
   "metadata": {},
   "outputs": [],
   "source": [
    "# Create connection string to connect to SQL Server \n",
    "server = 'DESKTOP-T0P4LFG\\\\SQLEXPRESS' \n",
    "database = 'task1_part2' \n",
    "driver = 'ODBC Driver 17 for SQL Server' \n",
    "connection_string = f'DRIVER={driver};SERVER={server};DATABASE={database};Trusted_Connection=yes' "
   ]
  },
  {
   "cell_type": "code",
   "execution_count": 49,
   "id": "0cd77759-b996-4f82-9d4f-dbf3218f81d4",
   "metadata": {},
   "outputs": [],
   "source": [
    "# Define function to execute SQL statement \n",
    "def execute_query(query, connection): \n",
    "    cursor = connection.cursor() \n",
    "    cursor.execute(query) \n",
    "    connection.commit() \n",
    "    cursor.close()\n",
    "    \n",
    "def execute_query_and_get_one(query, connection):\n",
    "    cursor = connection.cursor()\n",
    "    cursor.execute(query)\n",
    "    record = cursor.fetchone()\n",
    "    connection.commit()\n",
    "    cursor.close()\n",
    "\n",
    "    return record\n",
    "\n",
    "def execute_insert_and_get_id(query, connection):\n",
    "    cursor = connection.cursor()\n",
    "    cursor.execute(query)\n",
    "    cursor.execute('select @@identity as id;')\n",
    "    id = cursor.fetchone()[0]\n",
    "    connection.commit()\n",
    "    cursor.close()\n",
    "\n",
    "    return id"
   ]
  },
  {
   "cell_type": "code",
   "execution_count": 51,
   "id": "e5d516a1-ca67-465b-b220-597fcae95763",
   "metadata": {},
   "outputs": [
    {
     "ename": "Error",
     "evalue": "('01000', \"[01000] [unixODBC][Driver Manager]Can't open lib 'ODBC Driver 17 for SQL Server' : file not found (0) (SQLDriverConnect)\")",
     "output_type": "error",
     "traceback": [
      "\u001b[0;31m---------------------------------------------------------------------------\u001b[0m",
      "\u001b[0;31mError\u001b[0m                                     Traceback (most recent call last)",
      "Cell \u001b[0;32mIn[51], line 2\u001b[0m\n\u001b[1;32m      1\u001b[0m \u001b[38;5;66;03m# Connect to the database and create tables \u001b[39;00m\n\u001b[0;32m----> 2\u001b[0m \u001b[38;5;28;01mwith\u001b[39;00m pyodbc\u001b[38;5;241m.\u001b[39mconnect(connection_string) \u001b[38;5;28;01mas\u001b[39;00m conn: \n\u001b[1;32m      3\u001b[0m     execute_query(create_table_scripts, conn)\n\u001b[1;32m      5\u001b[0m \u001b[38;5;66;03m# Message to the user \u001b[39;00m\n",
      "\u001b[0;31mError\u001b[0m: ('01000', \"[01000] [unixODBC][Driver Manager]Can't open lib 'ODBC Driver 17 for SQL Server' : file not found (0) (SQLDriverConnect)\")"
     ]
    }
   ],
   "source": [
    "# Connect to the database and create tables \n",
    "with pyodbc.connect(connection_string) as conn: \n",
    "    execute_query(create_table_scripts, conn)\n",
    "    \n",
    "# Message to the user \n",
    "print('All of the tables are created successfully.')"
   ]
  },
  {
   "cell_type": "code",
   "execution_count": 63,
   "id": "ecc345e8-c70d-4faf-8b00-0767c265ac1e",
   "metadata": {},
   "outputs": [
    {
     "data": {
      "text/html": [
       "<div>\n",
       "<style scoped>\n",
       "    .dataframe tbody tr th:only-of-type {\n",
       "        vertical-align: middle;\n",
       "    }\n",
       "\n",
       "    .dataframe tbody tr th {\n",
       "        vertical-align: top;\n",
       "    }\n",
       "\n",
       "    .dataframe thead th {\n",
       "        text-align: right;\n",
       "    }\n",
       "</style>\n",
       "<table border=\"1\" class=\"dataframe\">\n",
       "  <thead>\n",
       "    <tr style=\"text-align: right;\">\n",
       "      <th></th>\n",
       "      <th>CRASH_DATE</th>\n",
       "      <th>CRASH_TIME</th>\n",
       "      <th>INJURY_RESULT</th>\n",
       "      <th>PERSON_AGE</th>\n",
       "      <th>INJURY_AREA</th>\n",
       "      <th>PERSON_SEX</th>\n",
       "      <th>INJURY_PERSON_TYPE</th>\n",
       "    </tr>\n",
       "  </thead>\n",
       "  <tbody>\n",
       "    <tr>\n",
       "      <th>0</th>\n",
       "      <td>2022-05-02</td>\n",
       "      <td>21:00:00</td>\n",
       "      <td>Killed</td>\n",
       "      <td>62.0</td>\n",
       "      <td>Head</td>\n",
       "      <td>F</td>\n",
       "      <td>Pedestrian</td>\n",
       "    </tr>\n",
       "    <tr>\n",
       "      <th>1</th>\n",
       "      <td>2022-05-21</td>\n",
       "      <td>00:00:00</td>\n",
       "      <td>Killed</td>\n",
       "      <td>24.0</td>\n",
       "      <td>Entire Body</td>\n",
       "      <td>M</td>\n",
       "      <td>Occupant</td>\n",
       "    </tr>\n",
       "    <tr>\n",
       "      <th>2</th>\n",
       "      <td>2022-10-15</td>\n",
       "      <td>02:00:00</td>\n",
       "      <td>Killed</td>\n",
       "      <td>30.0</td>\n",
       "      <td>Head</td>\n",
       "      <td>M</td>\n",
       "      <td>Occupant</td>\n",
       "    </tr>\n",
       "    <tr>\n",
       "      <th>3</th>\n",
       "      <td>2022-04-17</td>\n",
       "      <td>13:00:00</td>\n",
       "      <td>Killed</td>\n",
       "      <td>71.0</td>\n",
       "      <td>Head</td>\n",
       "      <td>M</td>\n",
       "      <td>Pedestrian</td>\n",
       "    </tr>\n",
       "    <tr>\n",
       "      <th>4</th>\n",
       "      <td>2022-05-25</td>\n",
       "      <td>22:00:00</td>\n",
       "      <td>Killed</td>\n",
       "      <td>69.0</td>\n",
       "      <td>Entire Body</td>\n",
       "      <td>F</td>\n",
       "      <td>Pedestrian</td>\n",
       "    </tr>\n",
       "  </tbody>\n",
       "</table>\n",
       "</div>"
      ],
      "text/plain": [
       "  CRASH_DATE CRASH_TIME INJURY_RESULT  PERSON_AGE  INJURY_AREA PERSON_SEX  \\\n",
       "0 2022-05-02   21:00:00        Killed        62.0         Head          F   \n",
       "1 2022-05-21   00:00:00        Killed        24.0  Entire Body          M   \n",
       "2 2022-10-15   02:00:00        Killed        30.0         Head          M   \n",
       "3 2022-04-17   13:00:00        Killed        71.0         Head          M   \n",
       "4 2022-05-25   22:00:00        Killed        69.0  Entire Body          F   \n",
       "\n",
       "  INJURY_PERSON_TYPE  \n",
       "0         Pedestrian  \n",
       "1           Occupant  \n",
       "2           Occupant  \n",
       "3         Pedestrian  \n",
       "4         Pedestrian  "
      ]
     },
     "execution_count": 63,
     "metadata": {},
     "output_type": "execute_result"
    }
   ],
   "source": [
    "# Import data from file \n",
    "data_path = './vehicle_accidents.xlsx' \n",
    "data = pd.read_excel(data_path)\n",
    "data.head(5)"
   ]
  },
  {
   "cell_type": "code",
   "execution_count": 67,
   "id": "80f59bdb-603e-4421-89f6-8e0520c21fc9",
   "metadata": {},
   "outputs": [
    {
     "ename": "Error",
     "evalue": "('01000', \"[01000] [unixODBC][Driver Manager]Can't open lib 'ODBC Driver 17 for SQL Server' : file not found (0) (SQLDriverConnect)\")",
     "output_type": "error",
     "traceback": [
      "\u001b[0;31m---------------------------------------------------------------------------\u001b[0m",
      "\u001b[0;31mError\u001b[0m                                     Traceback (most recent call last)",
      "Cell \u001b[0;32mIn[67], line 14\u001b[0m\n\u001b[1;32m     11\u001b[0m insert_data_injury_person_type_scripts \u001b[38;5;241m=\u001b[39m \u001b[38;5;124m\"\u001b[39m\u001b[38;5;124minsert into injury_person_type(type_name) values \u001b[39m\u001b[38;5;124m\"\u001b[39m \u001b[38;5;241m+\u001b[39m \\\n\u001b[1;32m     12\u001b[0m                                          \u001b[38;5;124m\"\u001b[39m\u001b[38;5;124m,\u001b[39m\u001b[38;5;124m\"\u001b[39m\u001b[38;5;241m.\u001b[39mjoin(\u001b[38;5;124mf\u001b[39m\u001b[38;5;124m\"\u001b[39m\u001b[38;5;124m(\u001b[39m\u001b[38;5;124m'\u001b[39m\u001b[38;5;132;01m{\u001b[39;00m\u001b[38;5;28mtype\u001b[39m\u001b[38;5;132;01m}\u001b[39;00m\u001b[38;5;124m'\u001b[39m\u001b[38;5;124m)\u001b[39m\u001b[38;5;124m\"\u001b[39m \u001b[38;5;28;01mfor\u001b[39;00m \u001b[38;5;28mtype\u001b[39m \u001b[38;5;129;01min\u001b[39;00m injury_person_type_data[\u001b[38;5;124m'\u001b[39m\u001b[38;5;124mINJURY_PERSON_TYPE\u001b[39m\u001b[38;5;124m'\u001b[39m]) \u001b[38;5;241m+\u001b[39m \u001b[38;5;124m\"\u001b[39m\u001b[38;5;124m;\u001b[39m\u001b[38;5;124m\"\u001b[39m \n\u001b[1;32m     13\u001b[0m \u001b[38;5;66;03m# Insert data into tables \u001b[39;00m\n\u001b[0;32m---> 14\u001b[0m \u001b[38;5;28;01mwith\u001b[39;00m pyodbc\u001b[38;5;241m.\u001b[39mconnect(connection_string) \u001b[38;5;28;01mas\u001b[39;00m conn: \n\u001b[1;32m     15\u001b[0m     execute_query(insert_data_injury_area_scripts, conn) \n\u001b[1;32m     16\u001b[0m     execute_query(insert_data_injury_person_type_scripts, conn)\n",
      "\u001b[0;31mError\u001b[0m: ('01000', \"[01000] [unixODBC][Driver Manager]Can't open lib 'ODBC Driver 17 for SQL Server' : file not found (0) (SQLDriverConnect)\")"
     ]
    }
   ],
   "source": [
    "# Prepare data for injury_area table \n",
    "injury_area_data = data[['INJURY_AREA']].drop_duplicates().reset_index(drop=True) \n",
    "\n",
    "# Prepare data for injury_person_type table \n",
    "injury_person_type_data = data[['INJURY_PERSON_TYPE']].drop_duplicates().reset_index(drop=True) \n",
    "\n",
    "# Insert data into injury_area table \n",
    "insert_data_injury_area_scripts = \"insert into injury_area(area_name) values \" + \\\n",
    "                                  \",\".join(f\"('{area}')\" for area in injury_area_data['INJURY_AREA']) + \";\" \n",
    "# Insert data into injury_person_type table \n",
    "insert_data_injury_person_type_scripts = \"insert into injury_person_type(type_name) values \" + \\\n",
    "                                         \",\".join(f\"('{type}')\" for type in injury_person_type_data['INJURY_PERSON_TYPE']) + \";\" \n",
    "# Insert data into tables \n",
    "with pyodbc.connect(connection_string) as conn: \n",
    "    execute_query(insert_data_injury_area_scripts, conn) \n",
    "    execute_query(insert_data_injury_person_type_scripts, conn)\n",
    "\n",
    "# Message to the user \n",
    "print('injury_area and injury_person_type tables are inserted successfully.') "
   ]
  },
  {
   "cell_type": "code",
   "execution_count": 33,
   "id": "c847092b-3621-4fd0-a494-ce7600237d74",
   "metadata": {},
   "outputs": [
    {
     "ename": "NameError",
     "evalue": "name 'data' is not defined",
     "output_type": "error",
     "traceback": [
      "\u001b[0;31m---------------------------------------------------------------------------\u001b[0m",
      "\u001b[0;31mNameError\u001b[0m                                 Traceback (most recent call last)",
      "Cell \u001b[0;32mIn[33], line 3\u001b[0m\n\u001b[1;32m      1\u001b[0m \u001b[38;5;66;03m# Convert 'CRASH_DATE' to datetime if it's not already \u001b[39;00m\n\u001b[0;32m----> 3\u001b[0m data[\u001b[38;5;124m'\u001b[39m\u001b[38;5;124mCRASH_DATE\u001b[39m\u001b[38;5;124m'\u001b[39m] \u001b[38;5;241m=\u001b[39m pd\u001b[38;5;241m.\u001b[39mto_datetime(data[\u001b[38;5;124m'\u001b[39m\u001b[38;5;124mCRASH_DATE\u001b[39m\u001b[38;5;124m'\u001b[39m])\n",
      "\u001b[0;31mNameError\u001b[0m: name 'data' is not defined"
     ]
    }
   ],
   "source": [
    "# Convert 'CRASH_DATE' to datetime if it's not already \n",
    "data['CRASH_DATE'] = pd.to_datetime(data['CRASH_DATE']) "
   ]
  },
  {
   "cell_type": "code",
   "execution_count": 1,
   "id": "5bcf7dbd-3572-4a57-bc75-c129403206ac",
   "metadata": {},
   "outputs": [
    {
     "ename": "NameError",
     "evalue": "name 'data' is not defined",
     "output_type": "error",
     "traceback": [
      "\u001b[0;31m---------------------------------------------------------------------------\u001b[0m",
      "\u001b[0;31mNameError\u001b[0m                                 Traceback (most recent call last)",
      "Cell \u001b[0;32mIn[1], line 3\u001b[0m\n\u001b[1;32m      1\u001b[0m \u001b[38;5;66;03m# Extract the day of the week and create a new column for it \u001b[39;00m\n\u001b[0;32m----> 3\u001b[0m data[\u001b[38;5;124m'\u001b[39m\u001b[38;5;124mDAY_OF_WEEK\u001b[39m\u001b[38;5;124m'\u001b[39m] \u001b[38;5;241m=\u001b[39m data[\u001b[38;5;124m'\u001b[39m\u001b[38;5;124mCRASH_DATE\u001b[39m\u001b[38;5;124m'\u001b[39m]\u001b[38;5;241m.\u001b[39mdt\u001b[38;5;241m.\u001b[39mday_name()\n",
      "\u001b[0;31mNameError\u001b[0m: name 'data' is not defined"
     ]
    }
   ],
   "source": [
    "# Extract the day of the week and create a new column for it \n",
    "data['DAY_OF_WEEK'] = data['CRASH_DATE'].dt.day_name() "
   ]
  },
  {
   "cell_type": "code",
   "execution_count": 35,
   "id": "219d6628-e356-481d-8df6-9729395c6408",
   "metadata": {},
   "outputs": [
    {
     "ename": "NameError",
     "evalue": "name 'data' is not defined",
     "output_type": "error",
     "traceback": [
      "\u001b[0;31m---------------------------------------------------------------------------\u001b[0m",
      "\u001b[0;31mNameError\u001b[0m                                 Traceback (most recent call last)",
      "Cell \u001b[0;32mIn[35], line 3\u001b[0m\n\u001b[1;32m      1\u001b[0m \u001b[38;5;66;03m# Plot the distribution of accidents by day of the week \u001b[39;00m\n\u001b[1;32m      2\u001b[0m plt\u001b[38;5;241m.\u001b[39mfigure(figsize\u001b[38;5;241m=\u001b[39m(\u001b[38;5;241m10\u001b[39m, \u001b[38;5;241m6\u001b[39m)) \n\u001b[0;32m----> 3\u001b[0m sns\u001b[38;5;241m.\u001b[39mcountplot(x\u001b[38;5;241m=\u001b[39m\u001b[38;5;124m'\u001b[39m\u001b[38;5;124mDAY_OF_WEEK\u001b[39m\u001b[38;5;124m'\u001b[39m, data\u001b[38;5;241m=\u001b[39mdata, order\u001b[38;5;241m=\u001b[39m[\u001b[38;5;124m'\u001b[39m\u001b[38;5;124mMonday\u001b[39m\u001b[38;5;124m'\u001b[39m, \u001b[38;5;124m'\u001b[39m\u001b[38;5;124mTuesday\u001b[39m\u001b[38;5;124m'\u001b[39m, \u001b[38;5;124m'\u001b[39m\u001b[38;5;124mWednesday\u001b[39m\u001b[38;5;124m'\u001b[39m, \u001b[38;5;124m'\u001b[39m\u001b[38;5;124mThursday\u001b[39m\u001b[38;5;124m'\u001b[39m, \u001b[38;5;124m'\u001b[39m\u001b[38;5;124mFriday\u001b[39m\u001b[38;5;124m'\u001b[39m, \u001b[38;5;124m'\u001b[39m\u001b[38;5;124mSaturday\u001b[39m\u001b[38;5;124m'\u001b[39m, \u001b[38;5;124m'\u001b[39m\u001b[38;5;124mSunday\u001b[39m\u001b[38;5;124m'\u001b[39m]) \n\u001b[1;32m      4\u001b[0m plt\u001b[38;5;241m.\u001b[39mtitle(\u001b[38;5;124m'\u001b[39m\u001b[38;5;124mDistribution of Accidents by Day of the Week\u001b[39m\u001b[38;5;124m'\u001b[39m) \n\u001b[1;32m      5\u001b[0m plt\u001b[38;5;241m.\u001b[39mxlabel(\u001b[38;5;124m'\u001b[39m\u001b[38;5;124mDay of the Week\u001b[39m\u001b[38;5;124m'\u001b[39m) \n",
      "\u001b[0;31mNameError\u001b[0m: name 'data' is not defined"
     ]
    },
    {
     "data": {
      "text/plain": [
       "<Figure size 1000x600 with 0 Axes>"
      ]
     },
     "metadata": {},
     "output_type": "display_data"
    }
   ],
   "source": [
    "# Plot the distribution of accidents by day of the week \n",
    "plt.figure(figsize=(10, 6)) \n",
    "sns.countplot(x='DAY_OF_WEEK', data=data, order=['Monday', 'Tuesday', 'Wednesday', 'Thursday', 'Friday', 'Saturday', 'Sunday']) \n",
    "plt.title('Distribution of Accidents by Day of the Week') \n",
    "plt.xlabel('Day of the Week') \n",
    "plt.ylabel('Number of Accidents') \n",
    "plt.xticks(rotation=45) \n",
    "plt.show() "
   ]
  },
  {
   "cell_type": "code",
   "execution_count": null,
   "id": "f93f1af8-165d-496d-a8e2-79fa82525b8f",
   "metadata": {},
   "outputs": [],
   "source": [
    "|"
   ]
  }
 ],
 "metadata": {
  "kernelspec": {
   "display_name": "anaconda-panel-2023.05-py310",
   "language": "python",
   "name": "conda-env-anaconda-panel-2023.05-py310-py"
  },
  "language_info": {
   "codemirror_mode": {
    "name": "ipython",
    "version": 3
   },
   "file_extension": ".py",
   "mimetype": "text/x-python",
   "name": "python",
   "nbconvert_exporter": "python",
   "pygments_lexer": "ipython3",
   "version": "3.11.5"
  }
 },
 "nbformat": 4,
 "nbformat_minor": 5
}
